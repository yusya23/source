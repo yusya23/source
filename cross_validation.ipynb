{
 "cells": [
  {
   "cell_type": "markdown",
   "metadata": {},
   "source": [
    "ハイパーパラメーターのチューニング"
   ]
  },
  {
   "cell_type": "code",
   "execution_count": 1,
   "metadata": {},
   "outputs": [],
   "source": [
    "%matplotlib inline\n",
    "import matplotlib.pyplot as plt\n",
    "import pandas as pd\n",
    "from sklearn.tree import DecisionTreeClassifier\n",
    "# データの読込\n",
    "df = pd.read_csv('input/data14.csv')\n",
    "\n",
    "# 特徴行列 X と目的変数 y へ分離\n",
    "X = df[['x0', 'x1']].values\n",
    "y = df['y'].values"
   ]
  },
  {
   "cell_type": "code",
   "execution_count": 2,
   "metadata": {},
   "outputs": [
    {
     "data": {
      "text/plain": [
       "{'fit_time': array([0.0008955 , 0.00043082, 0.00038767]),\n",
       " 'score_time': array([0.00053811, 0.00026655, 0.00025916]),\n",
       " 'test_score': array([0.71666667, 0.61666667, 0.63333333]),\n",
       " 'train_score': array([1.        , 0.875     , 0.88333333])}"
      ]
     },
     "execution_count": 2,
     "metadata": {},
     "output_type": "execute_result"
    }
   ],
   "source": [
    "from sklearn.tree import DecisionTreeClassifier\n",
    "from sklearn.model_selection import cross_validate\n",
    "\n",
    "tree = DecisionTreeClassifier(max_depth=4)\n",
    "result = cross_validate(\n",
    "estimator=tree,X=X,y=y,cv=3,return_train_score=True)\n",
    "\n",
    "result"
   ]
  },
  {
   "cell_type": "code",
   "execution_count": 6,
   "metadata": {},
   "outputs": [],
   "source": [
    "def check_tree(X,y,max_depth,cv):\n",
    "    import numpy as np\n",
    "    tree = DecisionTreeClassifier(max_depth=max_depth,random_state=0)\n",
    "    result = cross_validate(\n",
    "    estimator=tree,X=X,y=y,cv=cv,return_train_score=True)\n",
    "    return tree,np.mean(result['train_score']),np.mean(result['test_score'])"
   ]
  },
  {
   "cell_type": "code",
   "execution_count": 7,
   "metadata": {},
   "outputs": [
    {
     "name": "stdout",
     "output_type": "stream",
     "text": [
      "max_depth 1 train 0.7305555555555556 test 0.5444444444444444\n",
      "max_depth 2 train 0.8111111111111112 test 0.6166666666666667\n",
      "max_depth 3 train 0.8777777777777778 test 0.6555555555555556\n",
      "max_depth 4 train 0.9194444444444444 test 0.6555555555555556\n",
      "max_depth 5 train 0.9305555555555555 test 0.7333333333333334\n",
      "max_depth 6 train 0.9527777777777778 test 0.6944444444444443\n",
      "max_depth 7 train 0.9722222222222223 test 0.7055555555555556\n",
      "max_depth 8 train 0.9833333333333334 test 0.7055555555555556\n",
      "max_depth 9 train 0.9944444444444445 test 0.7000000000000001\n"
     ]
    }
   ],
   "source": [
    "max_depths = [1,2,3,4,5,6,7,8,9]\n",
    "score_trains = []\n",
    "score_tests = []\n",
    "for max_depth in max_depths:\n",
    "    _,score_train,score_test = check_tree(X,y,max_depth,cv=3)\n",
    "    print('max_depth',max_depth,'train',score_train,'test',score_test)\n",
    "    score_trains.append(score_train)\n",
    "    score_tests.append(score_test)"
   ]
  },
  {
   "cell_type": "code",
   "execution_count": 8,
   "metadata": {},
   "outputs": [
    {
     "data": {
      "image/png": "[encoded data removed]",
      "text/plain": [
       "<matplotlib.figure.Figure at 0x7f6734def0f0>"
      ]
     },
     "metadata": {},
     "output_type": "display_data"
    }
   ],
   "source": [
    "plt.xlabel('max_depth')\n",
    "plt.plot(max_depths,score_trains,label='train')\n",
    "plt.plot(max_depths,score_tests,label='test')\n",
    "plt.legend();"
   ]
  },
  {
   "cell_type": "code",
   "execution_count": null,
   "metadata": {},
   "outputs": [],
   "source": []
  }
 ],
 "metadata": {
  "kernelspec": {
   "display_name": "Python 3",
   "language": "python",
   "name": "python3"
  },
  "language_info": {
   "codemirror_mode": {
    "name": "ipython",
    "version": 3
   },
   "file_extension": ".py",
   "mimetype": "text/x-python",
   "name": "python",
   "nbconvert_exporter": "python",
   "pygments_lexer": "ipython3",
   "version": "3.6.6"
  },
  "toc": {
   "nav_menu": {},
   "number_sections": true,
   "sideBar": true,
   "skip_h1_title": false,
   "toc_cell": false,
   "toc_position": {},
   "toc_section_display": "block",
   "toc_window_display": false
  },
  "varInspector": {
   "cols": {
    "lenName": 16,
    "lenType": 16,
    "lenVar": 40
   },
   "kernels_config": {
    "python": {
     "delete_cmd_postfix": "",
     "delete_cmd_prefix": "del ",
     "library": "var_list.py",
     "varRefreshCmd": "print(var_dic_list())"
    },
    "r": {
     "delete_cmd_postfix": ") ",
     "delete_cmd_prefix": "rm(",
     "library": "var_list.r",
     "varRefreshCmd": "cat(var_dic_list()) "
    }
   },
   "types_to_exclude": [
    "module",
    "function",
    "builtin_function_or_method",
    "instance",
    "_Feature"
   ],
   "window_display": false
  }
 },
 "nbformat": 4,
 "nbformat_minor": 2
}
